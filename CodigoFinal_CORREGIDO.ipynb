{
 "cells": [
  {
   "cell_type": "markdown",
   "id": "4bc59c2e-8f0c-4a6b-bba3-78a33b05680a",
   "metadata": {},
   "source": [
    "# AGENTS"
   ]
  },
  {
   "cell_type": "code",
   "execution_count": 10,
   "id": "cbd5a4df",
   "metadata": {
    "lines_to_next_cell": 1
   },
   "outputs": [],
   "source": [
    "class Agent:\n",
    "    \"\"\"Base class for all agents in the system.\"\"\"\n",
    "\n",
    "    def __init__(self, name):\n",
    "        self.name = name\n",
    "\n",
    "    def __str__(self):\n",
    "        return f\"{self.name}\"\n",
    "\n",
    "    def describe(self):\n",
    "        return self.__str__()"
   ]
  },
  {
   "cell_type": "markdown",
   "id": "24283565-cb48-47b2-9a9a-af54d9535fc0",
   "metadata": {},
   "source": [
    "# STACK"
   ]
  },
  {
   "cell_type": "code",
   "execution_count": 11,
   "id": "bb737fd1",
   "metadata": {
    "lines_to_next_cell": 1
   },
   "outputs": [],
   "source": [
    "class Stack:\n",
    "    def __init__(self):\n",
    "        self.stack = []\n",
    "\n",
    "    def is_empty(self):\n",
    "        return True if len(self.stack) == 0 else False\n",
    "    \n",
    "    def push(self, item):\n",
    "        self.stack.append(item)\n",
    "        \n",
    "    def pop(self):\n",
    "        return None if self.is_empty() else self.stack.pop()\n",
    "    \n",
    "    def peek(self):\n",
    "        return None if self.is_empty () else self.stack[-1]"
   ]
  },
  {
   "cell_type": "markdown",
   "id": "a3447fe7-da69-4798-88ef-d0571be488f7",
   "metadata": {},
   "source": [
    "# QUEUE"
   ]
  },
  {
   "cell_type": "code",
   "execution_count": 12,
   "id": "12019a22",
   "metadata": {
    "lines_to_next_cell": 1
   },
   "outputs": [],
   "source": [
    "class Queue:\n",
    "    \n",
    "    def __init__(self):\n",
    "        self.queue = []\n",
    "    \n",
    "    def is_empty (self):\n",
    "        return True if len(self.queue) == 0 else False\n",
    "    \n",
    "    def peek(self):\n",
    "        return None if self.is_empty () else self.queue[0]\n",
    "    \n",
    "    def enqueue (self, item):\n",
    "        self.queue.append(item)\n",
    "    \n",
    "    def dequeue(self):\n",
    "        return None if self.is_empty() else self.queue.pop(0)\n",
    "    \n",
    "    def size(self):\n",
    "        return len(self.queue)"
   ]
  },
  {
   "cell_type": "markdown",
   "id": "b73af925-8a02-4142-9379-582fae7779e8",
   "metadata": {},
   "source": [
    "# AGENT PATIENT"
   ]
  },
  {
   "cell_type": "code",
   "execution_count": 13,
   "id": "6b62a984",
   "metadata": {},
   "outputs": [],
   "source": [
    "class Patient(Agent):\n",
    "    \"\"\"Class representing a patient that interacts with the hospital.\"\"\"\n",
    "\n",
    "    def __init__(self, name):\n",
    "        super().__init__(name)\n",
    "        self.hospital_stack = Stack()  # Stack of visited hospitals\n",
    "\n",
    "    def to_dict(self):\n",
    "        \"\"\"Returns the patient's information in the same format as hospital.to_dict().\"\"\"\n",
    "        return {\n",
    "            \"patient_name\": self.name,\n",
    "            \"hospital_stack\": list(self.hospital_stack.stack)  # Assuming direct access\n",
    "        }\n",
    "\n",
    "    def enter_hospital(self, hospital_name):\n",
    "        self.hospital_stack.push(hospital_name)\n",
    "        print(f'{self.name} entered {hospital_name}.')\n",
    "\n",
    "    def exit_hospital(self):\n",
    "        hospital_name = self.hospital_stack.pop()\n",
    "        if hospital_name:\n",
    "            print(f'{self.name} exited {hospital_name}.')\n",
    "        else:\n",
    "            print(f'{self.name} is not in any hospital.')\n",
    "\n",
    "    def current_hospital(self):\n",
    "        return self.hospital_stack.peek()\n",
    "    \n",
    "    \n",
    "    HELP_MESSAGES = {\n",
    "        \"add_patient\": \"patient add_patient <patient_name>: Add a new patient to the system.\",\n",
    "        \"show_all\": \"patient show_all: Show the list of all patients in the system.\",\n",
    "        \"remove_patient\": \"patient remove_patient <patient_name>: Remove a patient from the system.\",\n",
    "        \"request_appointment\": \"patient request_appointment <patient_name> <hospital_name> <time>: Request an appointment at a specific hospital.\",\n",
    "        \"request_urgent_care\": \"patient request_urgent_care <patient_name> <hospital_name>: Request urgent care at a specific hospital.\",\n",
    "        \"enter_hospital\": \"patient enter_hospital <patient_name> <hospital_name>: Allow a patient to enter the hospital.\",\n",
    "        \"exit_hospital\": \"patient exit_hospital <patient_name> <hospital_name>: Allow a patient to exit the hospital.\",\n",
    "        \"request_surgery\": \"patient request_surgery <patient_name> <hospital_name> <department_name>: Request a surgery in a specific department of the hospital.\",\n",
    "        \"check_appointment_status\": \"patient check_appointment_status <patient_name> <hospital_name>: Check the status of the patient's appointment.\",\n",
    "        \"quit\": \"q: Exit the simulation.\"\n",
    "    }\n",
    "\n",
    "    @classmethod\n",
    "    def help(cls):\n",
    "        print(\"Available commands for patient:\")\n",
    "        for command, description in cls.HELP_MESSAGES.items():\n",
    "            print(f\"- {description}\")"
   ]
  },
  {
   "cell_type": "markdown",
   "id": "b03c0208-995e-49ec-8f07-bcaf402d2b0b",
   "metadata": {},
   "source": [
    "# AGENT HOSPITAL"
   ]
  },
  {
   "cell_type": "code",
   "execution_count": 14,
   "id": "77633826",
   "metadata": {
    "lines_to_next_cell": 1
   },
   "outputs": [],
   "source": [
    "import time\n",
    "\n",
    "class Hospital(Agent):\n",
    "    \"\"\"Class that represents a hospital and its services (departments), doctors, etc.\"\"\"\n",
    "\n",
    "    def __init__(self, name):\n",
    "        super().__init__(name)\n",
    "        self.departments = []\n",
    "        self.doctors = []\n",
    "        self.nurses = []\n",
    "        self.urgent_care_queue = Queue()\n",
    "        self.appointments = {}\n",
    "        self.surgery= {}\n",
    "        self.rooms = {}\n",
    "\n",
    "    def to_dict(self):\n",
    "        return {\n",
    "            \"hospital_name\": self.name,\n",
    "            \"departments\": self.departments,\n",
    "            \"doctors\": self.doctors,\n",
    "            \"nurses\": [\n",
    "                {\"nurse_name\": nurse[\"nurse_name\"], \"department_name\": nurse[\"department_name\"]}\n",
    "                for nurse in self.nurses\n",
    "            ] if self.nurses else [],\n",
    "            \"appointments\": [\n",
    "                {\"patient_name\": k, \"time\": v}\n",
    "                for k, v in self.appointments.items()\n",
    "            ],\n",
    "            \"urgent_care_queue\": [\n",
    "                {\"patient_name\": patient}\n",
    "                for patient in self.urgent_care_queue.queue\n",
    "            ],\n",
    "            \"surgery\": [\n",
    "                {\"patient_name\": k, \"hospital\": v[\"hospital\"], \"department\": v[\"department\"]}\n",
    "                for k, v in self.surgery.items()\n",
    "            ],\n",
    "            \"rooms\": self.rooms\n",
    "        }\n",
    "\n",
    "    def add_department(self, department_name):\n",
    "        self.departments.append(department_name)\n",
    "        print(f'Department {department_name} added to {self.name}.')\n",
    "\n",
    "    def assign_nurse(self, nurse_name, department_name):\n",
    "        self.nurses.append({'nurse_name': nurse_name, 'department_name': department_name})\n",
    "        print(f'Nurse {nurse_name} assigned to {department_name} in {self.name}.')\n",
    "\n",
    "    def show_departments(self):\n",
    "        print(f'Departments in {self.name}:')\n",
    "        for department in self.departments:\n",
    "            print(f'- {department}')\n",
    "\n",
    "    def add_doctor(self, doctor_name):\n",
    "        if not any(d['doctor_name'] == doctor_name for d in self.doctors):\n",
    "            self.doctors.append({'doctor_name': doctor_name, 'hospital_name': self.name})\n",
    "            print(f'Doctor {doctor_name} added to {self.name}.')\n",
    "        else:\n",
    "            print(f'Doctor {doctor_name} is already in {self.name}.')\n",
    "\n",
    "    def assign_doctor(self, doctor_name):\n",
    "            # Check if doctor is already in this hospital\n",
    "        if any(doctor[\"doctor_name\"] == doctor_name for doctor in self.doctors):\n",
    "            print(f\"Doctor {doctor_name} is already in {self.name}.\")\n",
    "            return\n",
    "\n",
    "        # Add doctor with this hospital\n",
    "        self.doctors.append({\"doctor_name\": doctor_name, \"hospital_name\": self.name})\n",
    "        print(f\"Doctor {doctor_name} assigned to {self.name}.\")\n",
    "\n",
    "    def list_doctors(self):\n",
    "        print(f'Doctors in {self.name}:')\n",
    "        for doctor in self.doctors:\n",
    "            print(f\"- {doctor['doctor_name']}\")\n",
    "\n",
    "    def show_urgent_queue(self):\n",
    "        if not self.urgent_care_queue.is_empty():\n",
    "            print(f\"Urgent care queue for hospital '{self.name}':\")\n",
    "            for patient in self.urgent_care_queue.queue:\n",
    "                print(f\"- Patient: {patient['patient_name']}, Timestamp: {round(patient['timestamp'], 0)}\")\n",
    "        else:\n",
    "            print(f\"No patients in urgent care queue for hospital '{self.name}'.\")\n",
    "\n",
    "    def request_urgent_care(self, patient_name):\n",
    "        timestamp = time.time()\n",
    "        self.urgent_care_queue.enqueue({'patient_name': patient_name, 'timestamp': timestamp})\n",
    "        print(f\"Urgent care requested for patient {patient_name} in {self.name}.\")\n",
    "\n",
    "    def show_appointments(self):\n",
    "        if self.appointments:\n",
    "            print(f\"Appointments for hospital {self.name}:\")\n",
    "            for patient, time in self.appointments.items():\n",
    "                print(f\"- Patient: {patient}, Time: {time}\")\n",
    "        else:\n",
    "            print(f\"No appointments scheduled for hospital {self.name}.\")\n",
    "\n",
    "    def request_appointment(self, patient_name, appointment_time):\n",
    "        self.appointments[patient_name] = appointment_time\n",
    "        print(f\"Appointment scheduled for patient {patient_name} at {appointment_time} in {self.name}.\")\n",
    "\n",
    "    def cancel_appointment(self, patient_name):\n",
    "        if patient_name in self.appointments:\n",
    "            del self.appointments[patient_name]\n",
    "            print(f\"Appointment for patient {patient_name} canceled in {self.name}.\")\n",
    "        else:\n",
    "            print(f\"No appointment found for patient {patient_name} in {self.name}.\")\n",
    "\n",
    "    def request_surgery(self, patient_name, department_name):\n",
    "        self.surgery[patient_name] = {\n",
    "            \"hospital\": self.name,\n",
    "            \"department\": department_name\n",
    "        }\n",
    "        print(f\"Surgery requested for patient {patient_name} in {department_name} at {self.name}.\")\n",
    "\n",
    "    def perform_surgery(self, patient_name, department_name):\n",
    "        if patient_name in self.surgery:\n",
    "            del self.surgery[patient_name]\n",
    "        print(f\"Surgery performed on patient {patient_name} in {department_name} at {self.name}.\")\n",
    "\n",
    "    def assign_room(self, patient_name, room_name):\n",
    "        self.rooms[patient_name] = room_name\n",
    "        print(f\"Room {room_name} assigned to patient {patient_name} in {self.name}.\")\n",
    "\n",
    "    HELP_MESSAGES = {\n",
    "        \"add_hospital\": \"hospital add_hospital <hospital_name>: Add a new hospital to the system.\",\n",
    "        \"show_all\": \"hospital show_all: Show the list of all hospitals in the system.\",\n",
    "        \"add_doctor\": \"hospital add_doctor <hospital_name> <doctor_name>: Add a new doctor to a specific hospital.\",\n",
    "        \"assign_doctor\": \"hospital assign_doctor <hospital_name> <doctor_name>: Assign a doctor to a hospital.\",\n",
    "        \"list_doctors\": \"hospital list_doctors <hospital_name>: List all doctors available in the specified hospital.\",\n",
    "        \"show_urgent_queue\": \"hospital show_urgent_queue <hospital_name>: Show the list of patients in the urgent care queue at a hospital.\",\n",
    "        \"show_appointments\": \"hospital show_appointments <hospital_name>: Show all scheduled appointments for a hospital.\",\n",
    "        \"cancel_appointment\": \"hospital cancel_appointment <patient_name> <hospital_name>: Cancel a patient's appointment at a hospital.\",\n",
    "        \"add_department\": \"hospital add_department <hospital_name> <department_name>: Add a new department in the hospital\",\n",
    "        \"assign_nurse\": \"hospital assign_nurse <hospital_name> <nurse_name> <department_name>: Assign a nurse to a specific department of the hospital\",\n",
    "        \"show_departments\": \"hospital show_departments <hospital_name>: Show the list of departments available in the hospital\",\n",
    "        \"perform_surgery\": \"hospital perform_surgery <hospital_name> <patient_name> <department_name>: Perform a surgery for a patient in a department of the hospital\",\n",
    "        \"assign_room\": \"hospital assign_room <hospital_name> <patient_name> <room_name>: Assign a room to a patient in the hospital\",\n",
    "        \"quit\": \"q: Exit the simulation.\"\n",
    "    }\n",
    "\n",
    "    @classmethod\n",
    "    def help(cls):\n",
    "        print(\"Available commands for hospital:\")\n",
    "        for command, description in cls.HELP_MESSAGES.items():\n",
    "            print(f\"- {description}\")"
   ]
  },
  {
   "cell_type": "markdown",
   "id": "f81fefea-f46c-413f-83d6-6756f81f497d",
   "metadata": {},
   "source": [
    "# AGENT MANAGER"
   ]
  },
  {
   "cell_type": "code",
   "execution_count": 15,
   "id": "0de327d4",
   "metadata": {
    "lines_to_next_cell": 2
   },
   "outputs": [],
   "source": [
    "import json\n",
    "import os\n",
    "class AgentManager:\n",
    "    \"\"\"Base class for managing the creation and removal of agents.\"\"\"\n",
    "\n",
    "    def __init__(self):\n",
    "        self.agents = {}  # Dictionary to store agents\n",
    "        self.TIME_THRESHOLD = 10  # 10-second threshold\n",
    "\n",
    "\n",
    "    def filter_agents(self, *agent_types):\n",
    "        return {\n",
    "            name: agent for name, agent in self.agents.items()\n",
    "            if isinstance(agent, agent_types)\n",
    "        }        \n",
    "\n",
    "    def get_agent_by_name(self, agent_name, agent_type):\n",
    "       #Returns the agent with the given name and specific type, or None if not found.\n",
    "        return next((agent for agent in self.agents.values()\n",
    "                     if isinstance(agent, agent_type) and agent.name == agent_name), None)\n",
    "\n",
    "    def add_agent(self, agent_type, agent_name): \n",
    "        # Adds a new agent to the system, checks if it already exists and adds it to the agents dictionary\n",
    "\n",
    "        if agent_name in self.agents:\n",
    "            print(f\"Agent {agent_name} already exists.\")\n",
    "            return\n",
    "\n",
    "        if isinstance(agent_type, type):\n",
    "            self.agents[agent_name] = agent_type(agent_name)\n",
    "        else:\n",
    "            print(f\"Invalid agent type: {agent_type}\")\n",
    "            return\n",
    "       \n",
    "        print(f'{agent_type.__name__} {agent_name} added to the system.')\n",
    "\n",
    "\n",
    "    def remove_agent(self, agent_name):\n",
    "        #Removes an agent from the system.\n",
    "        if agent_name in self.agents:\n",
    "            del self.agents[agent_name]\n",
    "            print(f'Agent {agent_name} removed from the system.')\n",
    "        else:\n",
    "            print(f'Agent {agent_name} not found.')\n",
    "\n",
    "    def list_agents(self, agent_type=None):\n",
    "        #Displays all agents or filters by patients or hospitals in the system.\n",
    "        if agent_type:\n",
    "            print(f\"Current {agent_type.__name__}(s):\")\n",
    "            filtered_agents = self.filter_agents(agent_type)\n",
    "            for agent in filtered_agents.values():\n",
    "                print(agent.describe())\n",
    "        else:\n",
    "            print(\"Current agents:\")\n",
    "            for agent in self.agents.values():\n",
    "                print(agent.describe())\n",
    "    \n",
    "    def check_appointment_status(self, patient, hospital):  # Move to agent manager if needed\n",
    "        #Displays the status of the patient's appointment at the specified hospital.\"\"\"\n",
    "        if patient.current_hospital() != hospital.name:\n",
    "            print(f\"{patient.name} is not registered in {hospital.name}.\")\n",
    "            return\n",
    "\n",
    "        if patient.name in hospital.appointments:\n",
    "            print(f\"{patient.name} has an appointment scheduled at {hospital.appointments[patient.name]} in {hospital.name}.\")\n",
    "        else:\n",
    "            print(f\"{patient.name} has no registered appointment in {hospital.name}.\")\n",
    "\n",
    "    \n",
    "    def validate_patient_location(self, patient, hospital_name):\n",
    "        # Validate if the patient is in the specified hospital.\n",
    "        if patient.current_hospital() is None:\n",
    "            print(f'Patient {patient.name} cannot perform this action because not in it.')\n",
    "            return False\n",
    "        elif patient.current_hospital() != hospital_name:\n",
    "            print(f'Patient {patient.name} is in a different hospital: {patient.current_hospital()}.')\n",
    "            return False\n",
    "        return True\n",
    "\n",
    "    def load_agents_from_file(self, file_path):\n",
    "        \"\"\"Load agents from a JSON file.\"\"\"     \n",
    "\n",
    "        AGENT_CLASSES = {\n",
    "            \"hospitals\": Hospital,\n",
    "            \"patients\": Patient,            \n",
    "        }\n",
    "\n",
    "        try:\n",
    "            with open(file_path, 'r') as file:\n",
    "                data = json.load(file)\n",
    "\n",
    "            for group_name, agent_class in AGENT_CLASSES.items():\n",
    "                for agent_name, agent_data in data.get(group_name, {}).items():\n",
    "                    self.add_agent(agent_class, agent_name)\n",
    "\n",
    "                   # Retrieve the instance we just created\n",
    "                    agent = self.get_agent_by_name(agent_name, agent_class)\n",
    "\n",
    "                   # Specific logic for certain types\n",
    "                    if isinstance(agent, Hospital):\n",
    "                        for d in agent_data.get(\"departments\", []):\n",
    "                            agent.add_department(d)\n",
    "                        for doctor in agent_data.get(\"doctors\", []):\n",
    "                            agent.add_doctor(doctor)\n",
    "                        for nurse in agent_data.get(\"nurses\", []):\n",
    "                            agent.assign_nurse(nurse[\"nurse_name\"], nurse[\"department_name\"])\n",
    "                        for appt in agent_data.get(\"appointments\", []):\n",
    "                            agent.request_appointment(appt[\"patient_name\"], appt[\"time\"])\n",
    "                        for p in agent_data.get(\"urgent_care_queue\", []):\n",
    "                            agent.request_urgent_care(p[\"patient_name\"])\n",
    "                        for p_name, r_name in agent_data.get(\"rooms\", {}).items():\n",
    "                            agent.assign_room(p_name, r_name)\n",
    "\n",
    "                    elif isinstance(agent, Patient):\n",
    "                        if agent_data.get(\"current_hospital\"):\n",
    "                            agent.enter_hospital(agent_data[\"current_hospital\"])\n",
    "\n",
    "            print(f\"--- Agents loaded\" )\n",
    "            print(f\"successfully from {file_path}. ---\")\n",
    "\n",
    "        except FileNotFoundError:\n",
    "            print(f\"Error: File '{file_path}' not found.\")\n",
    "        except json.JSONDecodeError:\n",
    "            print(f\"Error: File '{file_path}' is not a valid JSON file.\")\n",
    "        except Exception as e:\n",
    "            print(f\"An error occurred while loading agents: {e}\")\n",
    "\n",
    "    def save_agents_to_file(self, file_path):\n",
    "    \n",
    "        data = {}\n",
    "\n",
    "        for name, agent in self.agents.items():\n",
    "            agent_type = type(agent).__name__.lower() + \"s\"  # example: \"Hospital\" → \"hospitals\"\n",
    "            if agent_type not in data:\n",
    "                data[agent_type] = {}\n",
    "            data[agent_type][name] = agent.to_dict()\n",
    "\n",
    "        with open(file_path, \"w\") as file:\n",
    "            json.dump(data, file, indent=4)      \n",
    "        print(f\"Archive saved in: {os.path.abspath(file_path)}\")"
   ]
  },
  {
   "cell_type": "markdown",
   "id": "0cf298a0-96ae-4e03-96b3-dbc04bde0904",
   "metadata": {},
   "source": [
    "### GLOBAL DICTIONARY AGENTS"
   ]
  },
  {
   "cell_type": "code",
   "execution_count": 16,
   "id": "68d15632",
   "metadata": {
    "lines_to_next_cell": 1
   },
   "outputs": [],
   "source": [
    "agents = {}# Global dictionary to store agents"
   ]
  },
  {
   "cell_type": "markdown",
   "id": "7f396ff9-cae7-4d72-97d3-43c26b3e9591",
   "metadata": {},
   "source": [
    "# CITY SIMULATION"
   ]
  },
  {
   "cell_type": "code",
   "execution_count": 17,
   "id": "de63a162",
   "metadata": {
    "lines_to_next_cell": 0
   },
   "outputs": [],
   "source": [
    "class CitySimulation:\n",
    "    \"\"\"Main class to manage the hospital system simulation.\"\"\"\n",
    "\n",
    "    def __init__(self):\n",
    "        self.agent_manager = AgentManager()\n",
    "        self.ERROR_MESSAGES = {\n",
    "        \"invalid_command\": \"Error: Unknown command. Enter ? to see available commands.\",\n",
    "        \"hospital_not_found\": \"Error: Hospital '{name}' not found.\",\n",
    "        \"patient_not_found\": \"Error: Patient '{name}' not found.\",\n",
    "        \"invalid_format\": \"Error: Invalid format. Use: '{expected_format}'\"\n",
    "    }\n",
    "\n",
    "\n",
    "    def command_loop(self):\n",
    "        print(\"Starting simulation... type 'q' to quit\")\n",
    "        while True:\n",
    "            command = input('> ').strip()\n",
    "            if command == 'q':\n",
    "                break\n",
    "            self.process_command(command)\n",
    "\n",
    "    def process_command(self, command):\n",
    "        parts = command.split()\n",
    "        if not parts:\n",
    "            return\n",
    "        match parts[0]:\n",
    "            case '?': self.process_help(parts)\n",
    "            case 'load_agents': self.process_load_agents(parts)\n",
    "            case 'save_agents': self.process_save_agents(parts)\n",
    "            case 'hospital': self.process_hospital_command(parts)\n",
    "            case 'patient': self.process_patient_command(parts)\n",
    "            case _: print(self.ERROR_MESSAGES[\"invalid_command\"])\n",
    "\n",
    "    def process_help(self, parts):\n",
    "        if len(parts) == 2:\n",
    "            match parts[1]:\n",
    "                case 'hospital': Hospital.help()\n",
    "                case 'patient': Patient.help()\n",
    "                case _: print(\"Unknown help command. Use '? hospital' or '? patient'.\")\n",
    "        else:\n",
    "            print(\"\"\"\n",
    "            Available commands:\n",
    "            - ? hospital: Show available commands for hospitals.\n",
    "            - ? patient: Show available commands for patients.\n",
    "            - load_agents <path>: Load agents from a JSON file.\n",
    "            - save_agents <path>: Save agents to a JSON file.\n",
    "            - q: Exit the simulation.\n",
    "            \"\"\")\n",
    "\n",
    "\n",
    "    def process_load_agents(self, parts):\n",
    "        if len(parts) != 2:\n",
    "            print(self.ERROR_MESSAGES[\"invalid_format\"].format(expected_format=\"load_agents <path>\"))\n",
    "            return\n",
    "        _, file_path = parts\n",
    "        self.agent_manager.load_agents_from_file(file_path)\n",
    "\n",
    "    def process_save_agents(self, parts):\n",
    "        if len(parts) != 2:\n",
    "            print(self.ERROR_MESSAGES[\"invalid_format\"].format(expected_format=\"save_agents <path>\"))\n",
    "            return\n",
    "        _, file_path = parts\n",
    "        self.agent_manager.save_agents_to_file(file_path)\n",
    "\n",
    "    def process_hospital_command(self, parts):\n",
    "        if len(parts) < 2:\n",
    "            print(self.ERROR_MESSAGES[\"invalid_format\"].format(expected_format=\"hospital <comando> [...]\"))\n",
    "            return\n",
    "        match parts[1]:\n",
    "            case 'add_hospital':\n",
    "                if self.validate_command(parts, 3, \"invalid_format\", \"hospital add_hospital <nombre>\"):\n",
    "                    _, _, hospital_name = parts\n",
    "                    self.agent_manager.add_agent(Hospital, hospital_name)\n",
    "            case 'show_all':\n",
    "                if self.validate_command(parts, 2, \"invalid_format\", \"hospital show_all\"):\n",
    "                    self.agent_manager.list_agents(Hospital)\n",
    "            case 'add_department':\n",
    "                if self.validate_command(parts, 4, \"invalid_format\", \"hospital add_department <hospital> <departamento>\"):\n",
    "                    _, _, hospital_name, department = parts\n",
    "                    hospital = self.get_agent_or_error(hospital_name, Hospital, \"hospital_not_found\")\n",
    "                    if hospital:\n",
    "                        hospital.add_department(department)\n",
    "            case 'assign_nurse':\n",
    "                if self.validate_command(parts, 5, \"invalid_format\", \"hospital assign_nurse <hospital> <enfermera> <departamento>\"):\n",
    "                    _, _, hospital_name, nurse_name, department = parts\n",
    "                    hospital = self.get_agent_or_error(hospital_name, Hospital, \"hospital_not_found\")\n",
    "                    if hospital:\n",
    "                        hospital.assign_nurse(nurse_name, department)\n",
    "            case 'add_doctor':\n",
    "                if self.validate_command(parts, 4, \"invalid_format\", \"hospital add_doctor <hospital> <doctor>\"):\n",
    "                    _, _, hospital_name, doctor_name = parts\n",
    "                    hospital = self.get_agent_or_error(hospital_name, Hospital, \"hospital_not_found\")\n",
    "                    if hospital:\n",
    "                        hospital.add_doctor(doctor_name)\n",
    "            case 'assign_doctor':\n",
    "                if self.validate_command(parts, 4, \"invalid_format\", \"hospital assign_doctor <hospital> <doctor>\"):\n",
    "                    _, _, hospital_name, doctor_name = parts\n",
    "                    hospital = self.get_agent_or_error(hospital_name, Hospital, \"hospital_not_found\")\n",
    "                    if hospital:\n",
    "                        hospital.assign_doctor(doctor_name)\n",
    "            case 'list_doctors':\n",
    "                if self.validate_command(parts, 3, \"invalid_format\", \"hospital list_doctors <hospital>\"):\n",
    "                    _, _, hospital_name = parts\n",
    "                    hospital = self.get_agent_or_error(hospital_name, Hospital, \"hospital_not_found\")\n",
    "                    if hospital:\n",
    "                        hospital.list_doctors()\n",
    "            case 'show_urgent_queue':\n",
    "                if self.validate_command(parts, 3, \"invalid_format\", \"hospital show_urgent_queue <hospital>\"):\n",
    "                    _, _, hospital_name = parts\n",
    "                    hospital = self.get_agent_or_error(hospital_name, Hospital, \"hospital_not_found\")\n",
    "                    if hospital:\n",
    "                        hospital.show_urgent_queue()\n",
    "            case 'show_appointments':\n",
    "                if self.validate_command(parts, 3, \"invalid_format\", \"hospital show_appointments <hospital>\"):\n",
    "                    _, _, hospital_name = parts\n",
    "                    hospital = self.get_agent_or_error(hospital_name, Hospital, \"hospital_not_found\")\n",
    "                    if hospital:\n",
    "                        hospital.show_appointments()\n",
    "            case 'cancel_appointment':\n",
    "                if self.validate_command(parts, 4, \"invalid_format\", \"hospital cancel_appointment <patient> <hospital>\"):\n",
    "                    _, _,  patient_name, hospital_name  = parts\n",
    "                    hospital = self.get_agent_or_error(hospital_name, Hospital, \"hospital_not_found\")\n",
    "                    if hospital:\n",
    "                        hospital.cancel_appointment(patient_name)\n",
    "            case 'show_departments':\n",
    "                if self.validate_command(parts, 3, \"invalid_format\", \"hospital show_departments <hospital>\"):\n",
    "                    _, _, hospital_name = parts\n",
    "                    hospital = self.get_agent_or_error(hospital_name, Hospital, \"hospital_not_found\")\n",
    "                    if hospital:\n",
    "                        hospital.show_departments()\n",
    "            case 'perform_surgery':\n",
    "                if self.validate_command(parts, 5, \"invalid_format\", \"hospital perform_surgery <hospital> <patient> <departamento>\"):\n",
    "                    _, _, hospital_name, patient_name, department = parts\n",
    "                    hospital = self.get_agent_or_error(hospital_name, Hospital, \"hospital_not_found\")\n",
    "                    if hospital:\n",
    "                        hospital.perform_surgery(patient_name, department)\n",
    "            case 'assign_room':\n",
    "                if self.validate_command(parts, 5, \"invalid_format\", \"hospital assign_room <hospital> <patient> <room>\"):\n",
    "                    _, _, hospital_name, patient_name, room_name = parts\n",
    "                    hospital = self.get_agent_or_error(hospital_name, Hospital, \"hospital_not_found\")\n",
    "                    if hospital:\n",
    "                        hospital.assign_room(patient_name, room_name)\n",
    "            case 'remove_hospital':\n",
    "                if self.validate_command(parts, 3, \"invalid_format\", \"hospital remove_hospital <nombre>\"):\n",
    "                    _, _, hospital_name = parts\n",
    "                    hospital = self.get_agent_or_error(hospital_name, Hospital, \"hospital_not_found\")\n",
    "                    if hospital:\n",
    "                        # Group the resources that must be empty before removal\n",
    "                        hospital_resources = [                                                                                 \n",
    "                            (\"appointments\", hospital.appointments),\n",
    "                            (\"surgery\", hospital.surgery),\n",
    "                        ]\n",
    "                        for agent in self.agent_manager.agents.values():\n",
    "                                    if isinstance(agent, Patient) and hospital_name in agent.hospital_stack.stack:\n",
    "                                        hospital_resources.append((\"patients\", agent.name))\n",
    "                                        break\n",
    "\n",
    "                        # Verify if any of the resources are occupied\n",
    "                        occupied = [name for name, resource in hospital_resources if resource]\n",
    "\n",
    "                        if occupied:\n",
    "                            print(f\"Cannot remove hospital {hospital_name} because it has active: {', '.join(occupied)}.\")\n",
    "                        else:\n",
    "                            self.agent_manager.remove_agent(hospital_name)\n",
    "\n",
    "\n",
    "            case _:\n",
    "                print(self.ERROR_MESSAGES[\"invalid_command\"])\n",
    "\n",
    "    def process_patient_command(self, parts):\n",
    "        if len(parts) < 2:\n",
    "            print(self.ERROR_MESSAGES[\"invalid_format\"].format(expected_format=\"patient <comando> [...]\"))\n",
    "            return\n",
    "        match parts[1]:\n",
    "            case 'add_patient':\n",
    "                if self.validate_command(parts, 3, \"invalid_format\", \"patient add_patient <nombre>\"):\n",
    "                    _, _, patient_name = parts\n",
    "                    self.agent_manager.add_agent(Patient, patient_name)\n",
    "            case 'remove_patient':\n",
    "                if self.validate_command(parts, 3, \"invalid_format\", \"patient remove_patient <nombre>\"):\n",
    "                    _, _, patient_name = parts\n",
    "                    self.agent_manager.remove_agent(patient_name)\n",
    "            case 'show_all':\n",
    "                if self.validate_command(parts, 2, \"invalid_format\", \"patient show_all\"):\n",
    "                    self.agent_manager.list_agents(Patient)\n",
    "            case 'enter_hospital':\n",
    "                if self.validate_command(parts, 4, \"invalid_format\", \"patient enter_hospital <patient> <hospital>\"):\n",
    "                    _, _, patient_name, hospital_name = parts\n",
    "                    patient = self.get_agent_or_error(patient_name, Patient, \"patient_not_found\")\n",
    "                    hospital = self.get_agent_or_error(hospital_name, Hospital, \"hospital_not_found\")\n",
    "                    if patient and hospital:\n",
    "                        patient.enter_hospital(hospital_name)\n",
    "            case 'exit_hospital':\n",
    "                if self.validate_command(parts, 4, \"invalid_format\", \"patient exit_hospital <patient> <hospital>\"):\n",
    "                    _, _, patient_name, hospital_name = parts\n",
    "                    patient = self.get_agent_or_error(patient_name, Patient, \"patient_not_found\")\n",
    "                    if patient and self.agent_manager.validate_patient_location(patient, hospital_name):\n",
    "                        patient.exit_hospital()\n",
    "            case 'request_appointment':\n",
    "                if self.validate_command(parts, 5, \"invalid_format\", \"patient request_appointment <patient> <hospital> <hora>\"):\n",
    "                    _, _, patient_name, hospital_name, time = parts\n",
    "                    patient = self.get_agent_or_error(patient_name, Patient, \"patient_not_found\")\n",
    "                    hospital = self.get_agent_or_error(hospital_name, Hospital, \"hospital_not_found\")\n",
    "                    if patient and hospital and self.agent_manager.validate_patient_location(patient, hospital_name):\n",
    "                        hospital.request_appointment(patient_name, time)\n",
    "            case 'request_urgent_care':\n",
    "                if self.validate_command(parts, 4, \"invalid_format\", \"patient request_urgent_care <patient> <hospital>\"):\n",
    "                    _, _, patient_name, hospital_name = parts\n",
    "                    patient = self.get_agent_or_error(patient_name, Patient, \"patient_not_found\")\n",
    "                    hospital = self.get_agent_or_error(hospital_name, Hospital, \"hospital_not_found\")\n",
    "                    if patient and hospital and self.agent_manager.validate_patient_location(patient, hospital_name):\n",
    "                        hospital.request_urgent_care(patient_name)\n",
    "            case 'check_appointment_status':\n",
    "                if self.validate_command(parts, 4, \"invalid_format\", \"patient check_appointment_status <patient> <hospital>\"):\n",
    "                    _, _, patient_name, hospital_name = parts\n",
    "                    patient = self.get_agent_or_error(patient_name, Patient, \"patient_not_found\")\n",
    "                    hospital = self.get_agent_or_error(hospital_name, Hospital, \"hospital_not_found\")\n",
    "                    if patient and hospital:\n",
    "                        self.agent_manager.check_appointment_status(patient, hospital)\n",
    "\n",
    "            case 'request_surgery':\n",
    "                if self.validate_command(parts, 5, \"invalid_format\", \"patient request_surgery <patient> <hospital> <departamento>\"):\n",
    "                    _, _, patient_name, hospital_name, department = parts\n",
    "                    patient = self.get_agent_or_error(patient_name, Patient, \"patient_not_found\")\n",
    "                    hospital = self.get_agent_or_error(hospital_name, Hospital, \"hospital_not_found\")\n",
    "                    if patient and hospital and self.agent_manager.validate_patient_location(patient, hospital_name):\n",
    "                        hospital.request_surgery(patient_name, department)\n",
    "            case _:\n",
    "                print(self.ERROR_MESSAGES[\"invalid_command\"])\n",
    "\n",
    "    def get_agent_or_error(self, agent_name, agent_type, error_key):\n",
    "        agent = self.agent_manager.get_agent_by_name(agent_name, agent_type)\n",
    "        if not agent:\n",
    "            print(self.ERROR_MESSAGES[error_key].format(name=agent_name))\n",
    "        return agent\n",
    "\n",
    "    def validate_command(self, parts, expected_length, error_key, expected_format):\n",
    "        if len(parts) != expected_length:\n",
    "            print(self.ERROR_MESSAGES[error_key].format(expected_format=expected_format))\n",
    "            return False\n",
    "        return True"
   ]
  },
  {
   "cell_type": "code",
   "execution_count": null,
   "id": "9202622a",
   "metadata": {},
   "outputs": [
    {
     "name": "stdout",
     "output_type": "stream",
     "text": [
      "Starting simulation... type 'q' to quit\n"
     ]
    },
    {
     "name": "stdin",
     "output_type": "stream",
     "text": [
      ">  patient add_patient JuanPerez\n"
     ]
    },
    {
     "name": "stdout",
     "output_type": "stream",
     "text": [
      "Patient JuanPerez added to the system.\n"
     ]
    },
    {
     "name": "stdin",
     "output_type": "stream",
     "text": [
      ">  hospital add_hospital ClinicaUniversitaria\n"
     ]
    },
    {
     "name": "stdout",
     "output_type": "stream",
     "text": [
      "Hospital ClinicaUniversitaria added to the system.\n"
     ]
    },
    {
     "name": "stdin",
     "output_type": "stream",
     "text": [
      ">  patient request_urgent_care JuanPerez ClinicaUniversitaria\n"
     ]
    },
    {
     "name": "stdout",
     "output_type": "stream",
     "text": [
      "Patient JuanPerez cannot perform this action because not in it.\n"
     ]
    },
    {
     "name": "stdin",
     "output_type": "stream",
     "text": [
      ">  patient enter_hospital ClinicaUniversitaria JuanPerez\n"
     ]
    },
    {
     "name": "stdout",
     "output_type": "stream",
     "text": [
      "Error: Patient 'ClinicaUniversitaria' not found.\n",
      "Error: Hospital 'JuanPerez' not found.\n"
     ]
    },
    {
     "name": "stdin",
     "output_type": "stream",
     "text": [
      ">  patient enter_hospital  JuanPerez ClinicaUniversitaria\n"
     ]
    },
    {
     "name": "stdout",
     "output_type": "stream",
     "text": [
      "JuanPerez entered ClinicaUniversitaria.\n"
     ]
    },
    {
     "name": "stdin",
     "output_type": "stream",
     "text": [
      ">  patient request_urgent_care JuanPerez ClinicaUniversitaria\n"
     ]
    },
    {
     "name": "stdout",
     "output_type": "stream",
     "text": [
      "Urgent care requested for patient JuanPerez in ClinicaUniversitaria.\n"
     ]
    },
    {
     "name": "stdin",
     "output_type": "stream",
     "text": [
      ">  hospital show_urgent_queue ClinicaUniversitaria\n"
     ]
    },
    {
     "name": "stdout",
     "output_type": "stream",
     "text": [
      "Urgent care queue for hospital 'ClinicaUniversitaria':\n",
      "- Patient: JuanPerez, Timestamp: 1747593215.0\n"
     ]
    },
    {
     "name": "stdin",
     "output_type": "stream",
     "text": [
      ">  patient request_appointment ClinicaUniversitaria JuanPerez 9:00\n"
     ]
    },
    {
     "name": "stdout",
     "output_type": "stream",
     "text": [
      "Error: Patient 'ClinicaUniversitaria' not found.\n",
      "Error: Hospital 'JuanPerez' not found.\n"
     ]
    },
    {
     "name": "stdin",
     "output_type": "stream",
     "text": [
      ">  patient request_appointment  JuanPerez ClinicaUniversitaria 9:00\n"
     ]
    },
    {
     "name": "stdout",
     "output_type": "stream",
     "text": [
      "Appointment scheduled for patient JuanPerez at 9:00 in ClinicaUniversitaria.\n"
     ]
    },
    {
     "name": "stdin",
     "output_type": "stream",
     "text": [
      ">  hospital request_appointment JuanPerez JRP 9:00\n"
     ]
    },
    {
     "name": "stdout",
     "output_type": "stream",
     "text": [
      "Error: Unknown command. Enter ? to see available commands.\n"
     ]
    },
    {
     "name": "stdin",
     "output_type": "stream",
     "text": [
      ">  patient request_surgery JuanPerez ClinicaUniversitaria\n"
     ]
    },
    {
     "name": "stdout",
     "output_type": "stream",
     "text": [
      "Error: Invalid format. Use: 'patient request_surgery <patient> <hospital> <departamento>'\n"
     ]
    },
    {
     "name": "stdin",
     "output_type": "stream",
     "text": [
      ">  hospital add_deppartment ClinicaUniversitaria cardio\n"
     ]
    },
    {
     "name": "stdout",
     "output_type": "stream",
     "text": [
      "Error: Unknown command. Enter ? to see available commands.\n"
     ]
    },
    {
     "name": "stdin",
     "output_type": "stream",
     "text": [
      ">  hospital add_department ClinicaUniversitaria cardio\n"
     ]
    },
    {
     "name": "stdout",
     "output_type": "stream",
     "text": [
      "Department cardio added to ClinicaUniversitaria.\n"
     ]
    },
    {
     "name": "stdin",
     "output_type": "stream",
     "text": [
      ">  patient request_surgery JuanPerez ClinicaUniversitaria cardio\n"
     ]
    },
    {
     "name": "stdout",
     "output_type": "stream",
     "text": [
      "Surgery requested for patient JuanPerez in cardio at ClinicaUniversitaria.\n"
     ]
    },
    {
     "name": "stdin",
     "output_type": "stream",
     "text": [
      ">  patient perform_surgery JuanPerez ClinicaUniversitaria cardio\n"
     ]
    },
    {
     "name": "stdout",
     "output_type": "stream",
     "text": [
      "Error: Unknown command. Enter ? to see available commands.\n"
     ]
    },
    {
     "name": "stdin",
     "output_type": "stream",
     "text": [
      ">  patient perform_surgery JuanPerez ClinicaUniversitaria\n"
     ]
    },
    {
     "name": "stdout",
     "output_type": "stream",
     "text": [
      "Error: Unknown command. Enter ? to see available commands.\n"
     ]
    },
    {
     "name": "stdin",
     "output_type": "stream",
     "text": [
      ">  patient perform_surgery ClinicaUniversitaria JuanPerez cardio\n"
     ]
    },
    {
     "name": "stdout",
     "output_type": "stream",
     "text": [
      "Error: Unknown command. Enter ? to see available commands.\n"
     ]
    },
    {
     "name": "stdin",
     "output_type": "stream",
     "text": [
      ">  hospital perform_surgery ClinicaUniversitaria JuanPerez cardio\n"
     ]
    },
    {
     "name": "stdout",
     "output_type": "stream",
     "text": [
      "Surgery performed on patient JuanPerez in cardio at ClinicaUniversitaria.\n"
     ]
    }
   ],
   "source": [
    "if __name__ == \"__main__\":\n",
    "    sim = CitySimulation()\n",
    "    sim.command_loop()"
   ]
  }
 ],
 "metadata": {
  "jupytext": {
   "cell_metadata_filter": "-all",
   "main_language": "python",
   "notebook_metadata_filter": "-all"
  },
  "kernelspec": {
   "display_name": "Python 3 (ipykernel)",
   "language": "python",
   "name": "python3"
  },
  "language_info": {
   "codemirror_mode": {
    "name": "ipython",
    "version": 3
   },
   "file_extension": ".py",
   "mimetype": "text/x-python",
   "name": "python",
   "nbconvert_exporter": "python",
   "pygments_lexer": "ipython3",
   "version": "3.10.16"
  }
 },
 "nbformat": 4,
 "nbformat_minor": 5
}
